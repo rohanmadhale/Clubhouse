{
 "cells": [
  {
   "cell_type": "markdown",
   "metadata": {},
   "source": [
    "## *Clubhoue is an invite-only audio chat social network starting with preliminary release for iOS only*\n"
   ]
  },
  {
   "cell_type": "code",
   "execution_count": null,
   "metadata": {
    "scrolled": true
   },
   "outputs": [],
   "source": [
    "\"\"\"\n",
    "Author          : Rohan Madhale\n",
    "Date created on : May 2021\n",
    "Title           : EDA for Clubhouse data\n",
    "\"\"\"\n",
    "\n",
    "print('')"
   ]
  },
  {
   "cell_type": "markdown",
   "metadata": {},
   "source": [
    "## Summary\n",
    "* The dataset has *1300515* unique user ids and **1300514** unique users.\n",
    "* Each user has following details :\n",
    "    1. user_id\n",
    "    2. name\n",
    "    3. photo_url\n",
    "    4. username\n",
    "    5. twitter\n",
    "    6. instagram\n",
    "    7. num_followers\n",
    "    8. num_following\n",
    "    9. time_created\n",
    "    10. invited_by_user_profile\n",
    "* Columns with missing values - *photo_url, username, twitter, instagram, invited_by_user_profile*\n",
    "* 1 username had 2 unique user_id's\n",
    "* **Jared Leto, Tiffany Haddish & Van Jones** are the top followed public figures\n",
    "* **December 2020** has the highest user registration \n",
    "* The user arer divided into **3** clusters : **Less than 1k followers, Between 1k & 10k followers & More than 10k followers**\n",
    "* **41%** of users with **Less than 1k followers** have not linked Instagram and Twitter to their profile\n",
    "* For users with **More than 1k followers** more than **50%** have linked both Instagram and Twitter to their profile\n",
    "* Among all 3 groups more users have linked **only Instagram** as compared to **only twitter**\n",
    "* Only **5%** of the profiles have profile pictures\n",
    "* **3214** have no invite linked to their profile\n",
    "* **David Castain** has invited the most nummber of users\n",
    "* For Users with **More than 1k followers, 56%** of the users have a complete profile\n",
    "* While **80%** of users with **Less than 1k followers** are missing some information from their profile\n",
    "* Emoji based observations\n",
    "   1. **213** user have atleast 1 emoji in their username\n",
    "   2. *smiling face with tear* is the most common emoji \n",
    "   3. **Four** users have four different flag emoji(United States, Sweden, Canada and Belize) in their username \n",
    "   4. **17** users have used **six** different skin toned emojis\n",
    "   5. **Six** Users have used *Rocket emoji*; This emoji implies that either the user works with social media growth related \n",
    "      metrics or startup or investor in Dogecoin\n",
    "   6. One user is artist as the user has artist palette in their username (linked instagram confirms this)\n",
    "   7. **Three** users have *camera emoji* in their username. Exactly one user works with filmaker/video content creator \n",
    "   8. **Three** users work in tech\n",
    "   9. **Five** users are female and **three** users are male"
   ]
  },
  {
   "cell_type": "markdown",
   "metadata": {},
   "source": [
    "### A. Import necessary libraries"
   ]
  },
  {
   "cell_type": "code",
   "execution_count": null,
   "metadata": {},
   "outputs": [],
   "source": [
    "###\n",
    "\n",
    "import pandas as pd\n",
    "import numpy as np\n",
    "import sqlite3\n",
    "from tabulate import tabulate\n",
    "import plotly.graph_objects as go\n",
    "import plotly.figure_factory as ff\n",
    "import chart_studio.plotly as py\n",
    "import plotly.express as px\n",
    "from plotly.offline import init_notebook_mode, iplot\n",
    "from plotly.subplots import make_subplots\n",
    "from advertools import extract_emoji\n",
    "\n",
    "###"
   ]
  },
  {
   "cell_type": "markdown",
   "metadata": {},
   "source": [
    "### B. Reading data into pandas dataframe"
   ]
  },
  {
   "cell_type": "code",
   "execution_count": null,
   "metadata": {},
   "outputs": [],
   "source": [
    "### \n",
    "#Read Clubhouse_Dataset_v1.db file into pandas dataframe\n",
    "\n",
    "cnx = sqlite3.connect('Clubhouse_Dataset_v1.db')\n",
    "user_data = pd.read_sql_query(\"SELECT * from user\", cnx)\n",
    "\n",
    "###"
   ]
  },
  {
   "cell_type": "markdown",
   "metadata": {},
   "source": [
    "### C. Data cleaning and formatting"
   ]
  },
  {
   "cell_type": "code",
   "execution_count": null,
   "metadata": {},
   "outputs": [],
   "source": [
    "# C1. Get column names and check data type of columns\n",
    "\n",
    "###\n",
    "\n",
    "# Get column names and check data type of columns\n",
    "print('Columns                   data_type')\n",
    "print(len('Columns                   data_type')*'-')\n",
    "print(user_data.dtypes.to_string())\n",
    "\n",
    "###"
   ]
  },
  {
   "cell_type": "code",
   "execution_count": null,
   "metadata": {},
   "outputs": [],
   "source": [
    "# C2. Check columns for null values\n",
    "\n",
    "###\n",
    "\n",
    "print('Columns with null entries')\n",
    "print(len('Columns with null entries')*'-')\n",
    "for col in list(user_data.columns):\n",
    "    if (user_data[user_data[col] == 'null'].shape[0] > 0) | (user_data[user_data[col].isna()].shape[0] > 0):\n",
    "        print(col)\n",
    "    else:\n",
    "        pass\n",
    "\n",
    "###"
   ]
  },
  {
   "cell_type": "code",
   "execution_count": null,
   "metadata": {},
   "outputs": [],
   "source": [
    "# C3. Check unique entries\n",
    "\n",
    "###\n",
    "\n",
    "# Check number of uninque rows in the dataset\n",
    "if len(user_data.user_id.unique()) == len(user_data):\n",
    "    print('All user_ids are unique')\n",
    "else:\n",
    "    print('Duplicate user_ids present')\n",
    "\n",
    "###"
   ]
  },
  {
   "cell_type": "code",
   "execution_count": null,
   "metadata": {},
   "outputs": [],
   "source": [
    "# C4. Check if same username duplicate is present\n",
    "\n",
    "###\n",
    "\n",
    "print('Duplicate username:')\n",
    "print(user_data[user_data.duplicated(['username'], keep=False)]\n",
    "      [['user_id', 'name', 'username']].to_string(index=False))\n",
    "\n",
    "# Drop user_id = 39784 as has lowest number of followers and follows zero accounts\n",
    "user_data = user_data[user_data['user_id'] != 39784]\n",
    "\n",
    "###"
   ]
  },
  {
   "cell_type": "code",
   "execution_count": null,
   "metadata": {},
   "outputs": [],
   "source": [
    "# C5. Data cleaning & Formatting\n",
    "\n",
    "###\n",
    "\n",
    "# Replace None with 0\n",
    "user_data.fillna(0, inplace=True)\n",
    "\n",
    "# Replace 'null' which are present as string \n",
    "user_data.replace('null',0, inplace=True)\n",
    "user_data['name'].replace('','none', inplace=True)\n",
    "user_data.replace('', 0, inplace=True)\n",
    "\n",
    "# Convert data to Year-Month format\n",
    "user_data['time_created'] = pd.to_datetime(user_data['time_created'], format='%Y-%m').dt.strftime('%Y-%m')\n",
    "\n",
    "###"
   ]
  },
  {
   "cell_type": "markdown",
   "metadata": {},
   "source": [
    "### D. EDA "
   ]
  },
  {
   "cell_type": "code",
   "execution_count": null,
   "metadata": {},
   "outputs": [],
   "source": [
    "# D1. Get total number of users\n",
    "\n",
    "###\n",
    "\n",
    "print(f'Total number of user : {len(user_data.user_id.unique())}')\n",
    "\n",
    "###"
   ]
  },
  {
   "cell_type": "code",
   "execution_count": null,
   "metadata": {},
   "outputs": [],
   "source": [
    "# D2. Get Top followed users\n",
    "\n",
    "# print('Top 10 users with most followers:')\n",
    "###\n",
    "\n",
    "print(user_data.sort_values([\"num_followers\"], ascending=[False]).head(\n",
    "    10)[[\"name\", 'num_followers']].to_string(index=False))\n",
    "\n",
    "print('\\nJared Leto, Tiffany Haddish & Van Jones are the top followed public figures')\n",
    "###"
   ]
  },
  {
   "cell_type": "code",
   "execution_count": null,
   "metadata": {},
   "outputs": [],
   "source": [
    "# D3. Check number of users present in each month to guage app growth\n",
    "\n",
    "###\n",
    "\n",
    "x = pd.DataFrame(user_data.time_created.value_counts()).sort_index()\n",
    "\n",
    "# Scatter plot \n",
    "fig = px.scatter(x, x=x.index, y='time_created', hover_data=['time_created'], template='simple_white',\n",
    "                 labels={\n",
    "                     \"x\": \"Month\",\n",
    "                     \"time_created\": \"Number of Users\"},\n",
    "                 title=\"Number of users in each month\")\n",
    "\n",
    "# Add line trace to the scatter plot \n",
    "fig.add_trace(go.Scatter(x=x.index, y=x.time_created, mode='lines'))\n",
    "\n",
    "# Add titles and change font\n",
    "fig.update_layout(\n",
    "#     title=\"Number of users in each month\",\n",
    "    xaxis_title=\"Month\",\n",
    "    yaxis_title=\"Numer of Users\",\n",
    "    legend_title=\"\",\n",
    "    showlegend=False,\n",
    "    font=dict(\n",
    "        family=\"Raleway, monospace\",\n",
    "        size=12,\n",
    "        color=\"RebeccaPurple\"\n",
    "    ),\n",
    "    title={\n",
    "        'text': \"Number of users in each month\",\n",
    "        'y':0.9,\n",
    "        'x':0.5,\n",
    "        'xanchor': 'center',\n",
    "        'yanchor': 'top'}\n",
    ")\n",
    "\n",
    "\n",
    "# Set X-axis to 1 Month interval\n",
    "fig.update_xaxes(\n",
    "    dtick=\"M1\")\n",
    "\n",
    "fig.show()\n",
    "\n",
    "###"
   ]
  },
  {
   "cell_type": "code",
   "execution_count": null,
   "metadata": {},
   "outputs": [],
   "source": [
    "print('November and December 2020 saw a sharp increase in number of new users joining the platform ')"
   ]
  },
  {
   "cell_type": "code",
   "execution_count": null,
   "metadata": {},
   "outputs": [],
   "source": [
    "# D4. Divide users into 3 groups based in number of followers\n",
    "# 1st Group < 1k followers\n",
    "# 2nd Group >= 1k & <= 10k followers\n",
    "# 3rd Group > 10k followers\n",
    "\n",
    "###\n",
    "\n",
    "user_data[\"follower_status\"] = np.where(\n",
    "    user_data[\"num_followers\"] < 1000,\n",
    "    \"Less than 1k followers\",\n",
    "    0,\n",
    ")\n",
    "\n",
    "user_data[\"follower_status\"] = np.where(\n",
    "    (user_data[\"num_followers\"] >= 1000) & (user_data[\"num_followers\"] <= 10000),\n",
    "    \"Between 1k & 10k followers\",\n",
    "    user_data[\"follower_status\"],\n",
    ")\n",
    "\n",
    "user_data[\"follower_status\"] = np.where(\n",
    "    user_data[\"num_followers\"] > 10000, \"More than 10k followers\",\n",
    "    user_data[\"follower_status\"],\n",
    ")\n",
    "\n",
    "\n",
    "print('Follwers status :')\n",
    "# print(user_data.groupby(['follower_status']).size().sort_values(ascending=False).to_string())\n",
    "print((pd.DataFrame(user_data.follower_status.value_counts())).rename(columns={'follower_status':'Count'}))\n",
    "\n",
    "###"
   ]
  },
  {
   "cell_type": "code",
   "execution_count": null,
   "metadata": {},
   "outputs": [],
   "source": [
    "# D5. Create column based on social media profile linked to clubhouse profile\n",
    "\n",
    "###\n",
    "\n",
    "user_data['social_media'] = np.where(\n",
    "    (user_data['instagram'] == 0) & (user_data['twitter'] != 0), 'Only Twitter', 0)\n",
    "user_data['social_media'] = np.where(\n",
    "    (user_data['instagram'] != 0) & (user_data['twitter'] == 0), 'Only Instagram', user_data['social_media'])\n",
    "user_data['social_media'] = np.where(\n",
    "    (user_data['instagram'] != 0) & (user_data['twitter'] != 0), 'Both Instagram & Twitter', user_data['social_media'])\n",
    "user_data['social_media'] = np.where(\n",
    "    (user_data['instagram'] == 0) & (user_data['twitter'] == 0), 'None', user_data['social_media'])\n",
    "\n",
    "###"
   ]
  },
  {
   "cell_type": "code",
   "execution_count": null,
   "metadata": {},
   "outputs": [],
   "source": [
    "# D6. Check status of other social media profiles are linked to Clubhouse profile based on number of followers\n",
    "\n",
    "###\n",
    "\n",
    "tx = user_data.groupby(['social_media','follower_status']).size().reset_index()\n",
    "fig = make_subplots(\n",
    "    rows=1,\n",
    "    cols=3,\n",
    "    specs=[[{\"type\": \"domain\"}, {\"type\": \"domain\"}, {\"type\": \"domain\"}]],\n",
    "    subplot_titles=[\n",
    "        \"Profiles with<br>Less than 1k followers\",\n",
    "        \"Profiles with<br>Between 1k & 10k followers\",\n",
    "        \"Profiles with<br>More than 10k followers\",\n",
    "    ],\n",
    ")\n",
    "fig.add_trace(go.Pie(labels=tx[tx['follower_status']=='Less than 1k followers'].social_media, \n",
    "                     values=tx[tx['follower_status']=='Less than 1k followers'][0], name=''), 1, 1)\n",
    "\n",
    "fig.add_trace(go.Pie(labels=tx[tx['follower_status']=='Between 1k & 10k followers'].social_media, \n",
    "                     values=tx[tx['follower_status']=='Between 1k & 10k followers'][0], name=''), 1, 2)\n",
    "\n",
    "fig.add_trace(go.Pie(labels=tx[tx['follower_status']=='More than 10k followers'].social_media, \n",
    "                     values=tx[tx['follower_status']=='More than 10k followers'][0], name=''), 1, 3)\n",
    "\n",
    "colors = ['lightcyan', 'cyan', 'royalblue', 'darkblue']\n",
    "fig.update_traces(marker=dict(colors=colors))\n",
    "\n",
    "fig.update_layout(\n",
    "    legend_title=\"Social Media\",\n",
    "    font=dict(family=\"Raleway, monospace\", size=12, color=\"RebeccaPurple\"),\n",
    "    title={\n",
    "        \"text\": \"Distribution of other social media profiles linked to Clubhouse profile\",\n",
    "        \"y\": 0.96,\n",
    "        \"x\": 0.39,\n",
    "        \"xanchor\": \"center\",\n",
    "        \"yanchor\": \"top\",\n",
    "    },\n",
    ")\n",
    "fig.update_layout(\n",
    "    legend=dict(x=1.1,y=0.7)\n",
    ")\n",
    "\n",
    "\n",
    "fig.show()\n",
    "\n",
    "###"
   ]
  },
  {
   "cell_type": "code",
   "execution_count": null,
   "metadata": {},
   "outputs": [],
   "source": [
    "print('41% of Users with less than 1k followers have not linked Instagram and Twitter to their profile')\n",
    "print('For users with more than 1k followers more than 50% have linked both Instagram and Twitter to their profile')\n",
    "print('Among all 3 groups more users have linked only Instagram as compared to only twitter')"
   ]
  },
  {
   "cell_type": "code",
   "execution_count": null,
   "metadata": {},
   "outputs": [],
   "source": [
    "# D7. Check if profile picture is present linked to the profile\n",
    "\n",
    "###\n",
    "\n",
    "user_data['profile_photo_status'] = np.where(\n",
    "    user_data['photo_url'] == 0, 'Yes', 'No')\n",
    "fig = px.histogram(user_data, x=\"profile_photo_status\", labels={\n",
    "                   \"profile_photo_status\": \"Profile Picture Status\", }, color_discrete_sequence=['cyan'])\n",
    "fig.update_layout(\n",
    "    xaxis_title=\"Profile Picture Status\",\n",
    "    yaxis_title=\"Numer of Users\",\n",
    "    legend_title=\"\",\n",
    "    showlegend=False,\n",
    "    font=dict(\n",
    "        family=\"Raleway, monospace\",\n",
    "        size=12,\n",
    "        color=\"RebeccaPurple\"\n",
    "    ),\n",
    "    title={\n",
    "        'text': \"Histogram of Profile Picture Status\",\n",
    "        'y': 0.9,\n",
    "        'x': 0.5,\n",
    "        'xanchor': 'center',\n",
    "        'yanchor': 'top'},\n",
    "    template='simple_white'\n",
    ")\n",
    "fig.show()\n",
    "\n",
    "###"
   ]
  },
  {
   "cell_type": "code",
   "execution_count": null,
   "metadata": {},
   "outputs": [],
   "source": [
    "print('Only 5% of the profiles have profile pictures')"
   ]
  },
  {
   "cell_type": "code",
   "execution_count": null,
   "metadata": {},
   "outputs": [],
   "source": [
    "# D8. Check for top inviters\n",
    "\n",
    "###\n",
    "\n",
    "invite = user_data.groupby(['invited_by_user_profile']).size().reset_index().sort_values([0], ascending=[False])\n",
    "\n",
    "invite['invited_by_user_profile'].replace(0, 'No Inviter', inplace=True)\n",
    "\n",
    "\n",
    "df1 = invite[invite['invited_by_user_profile'] == 'No Inviter']\n",
    "df2 = pd.merge(invite, user_data[['user_id', 'name']], left_on='invited_by_user_profile',\n",
    "               right_on='user_id').sort_values([0], ascending=[False])\n",
    "df2 = df2[['name', 0]].rename(columns={'name': 'invited_by_user_profile'})\n",
    "\n",
    "\n",
    "invite = pd.concat([df1, df2], axis=0)\n",
    "invite.rename(columns={0:'number_of_invites'},inplace=True)\n",
    "\n",
    "###\n",
    "\n",
    "###\n",
    "\n",
    "fig = px.bar(invite.head(20), y='number_of_invites',\n",
    "             x='invited_by_user_profile', text='number_of_invites',color_discrete_sequence =['royalblue'])\n",
    "fig.update_traces(texttemplate='%{text:.2s}', textposition='outside')\n",
    "fig.update_layout(uniformtext_minsize=8, uniformtext_mode='hide')\n",
    "fig.update_layout(\n",
    "    xaxis_title=\"Invited by User\",\n",
    "    yaxis_title=\"Numer of Invites\",\n",
    "    font=dict(\n",
    "        family=\"Raleway, monospace\",\n",
    "        size=12,\n",
    "        color=\"RebeccaPurple\"\n",
    "    ),\n",
    "    title={\n",
    "        'text': \"Top 20 Inviters\",\n",
    "        'y': 0.9,\n",
    "        'x': 0.5,\n",
    "        'xanchor': 'center',\n",
    "        'yanchor': 'top'},\n",
    "    template='simple_white'\n",
    ")\n",
    "fig.show()\n",
    "\n",
    "###"
   ]
  },
  {
   "cell_type": "code",
   "execution_count": null,
   "metadata": {},
   "outputs": [],
   "source": [
    "print('3214 have no invite linked to their profile')\n",
    "print('David Castain has invited the most nummber of users')"
   ]
  },
  {
   "cell_type": "code",
   "execution_count": null,
   "metadata": {},
   "outputs": [],
   "source": [
    "#D9. Check if all the information is present for a profile\n",
    "\n",
    "###\n",
    "\n",
    "user_data['complete_profile'] = np.where(((user_data['photo_url'] != 0) & (user_data['twitter'] != 0) & (\n",
    "    user_data['instagram'] != 0) & (user_data['invited_by_user_profile'] != 0)), 'Yes', 'No')\n",
    "\n",
    "complete_profile_df = user_data.groupby(['follower_status', 'complete_profile']).size(\n",
    ").reset_index().rename(columns={0: 'count'})\n",
    "\n",
    "complete_profile_df['%'] = complete_profile_df.groupby(\n",
    "    ['follower_status'])['count'].transform(lambda x: round(x/np.sum(x)*100))\n",
    "\n",
    "complete_profile_df = complete_profile_df.sort_values(\n",
    "    ['count'], ascending=[False])\n",
    "\n",
    "###\n",
    "\n",
    "###\n",
    "\n",
    "fig = px.bar(complete_profile_df, y=\"follower_status\", x=\"%\", color=\"complete_profile\",  orientation='h',\n",
    "             color_discrete_sequence =['royalblue','cyan'])\n",
    "fig.update_layout(\n",
    "    xaxis_title=\"% Users\",\n",
    "    yaxis_title=\"Profile with followers\",\n",
    "    font=dict(\n",
    "        family=\"Raleway, monospace\",\n",
    "        size=12,\n",
    "        color=\"RebeccaPurple\"\n",
    "    ),\n",
    "    title={\n",
    "        'text': \"Profile completeness\",\n",
    "        'y': 0.9,\n",
    "        'x': 0.5,\n",
    "        'xanchor': 'center',\n",
    "        'yanchor': 'top'},\n",
    "    template='simple_white',\n",
    "   \n",
    ")\n",
    "\n",
    "fig.show()\n",
    "\n",
    "###"
   ]
  },
  {
   "cell_type": "code",
   "execution_count": null,
   "metadata": {},
   "outputs": [],
   "source": [
    "print('For Users with more than 1k followers 56% of the users have a complete profile')\n",
    "print('While 80% of users with less than 1k followers are missing some information from their profile')"
   ]
  },
  {
   "cell_type": "markdown",
   "metadata": {},
   "source": [
    "###### D8. Analaysis based on emoji's present in the name"
   ]
  },
  {
   "cell_type": "markdown",
   "metadata": {},
   "source": [
    "D8. Analaysis based on emoji's present in the name"
   ]
  },
  {
   "cell_type": "code",
   "execution_count": null,
   "metadata": {},
   "outputs": [],
   "source": [
    "# D8.1 Get emoji's present in the name and their description\n",
    "\n",
    "###\n",
    "\n",
    "# Get emoji and emoji description from the 'name' column\n",
    "user_data['emoji_in_name_text'] = extract_emoji(user_data['name'])[\n",
    "    'emoji_text']\n",
    "\n",
    "user_data['emoji_in_name_text'] = user_data['emoji_in_name_text'].astype(str)\n",
    "\n",
    "user_data['emoji_in_name'] = extract_emoji(user_data['name'])['emoji']\n",
    "\n",
    "user_data['emoji_count_name'] = extract_emoji(user_data['name'])[\n",
    "    'emoji_counts']\n",
    "\n",
    "###"
   ]
  },
  {
   "cell_type": "markdown",
   "metadata": {},
   "source": [
    "D8.2 Number of users with emoji's in their name"
   ]
  },
  {
   "cell_type": "code",
   "execution_count": null,
   "metadata": {},
   "outputs": [],
   "source": [
    "###\n",
    "\n",
    "# Filter data for user with emoji in  their name\n",
    "emoji_users = user_data[user_data.astype(str)['emoji_in_name'] != '[]']\n",
    "\n",
    "print(f'Number of users with emoji in their name : {emoji_users.shape[0]}')\n",
    "\n",
    "###"
   ]
  },
  {
   "cell_type": "markdown",
   "metadata": {},
   "source": [
    "D8.3 Get the most commonly used emoji's"
   ]
  },
  {
   "cell_type": "code",
   "execution_count": null,
   "metadata": {},
   "outputs": [],
   "source": [
    "###\n",
    "\n",
    "# Get most common emoji in username\n",
    "print('Emoji                        Count')\n",
    "print(user_data[user_data.astype(str)['emoji_in_name_text'] != '[]']\n",
    "      ['emoji_in_name_text'].value_counts().head(5).to_string())\n",
    "\n",
    "###"
   ]
  },
  {
   "cell_type": "markdown",
   "metadata": {},
   "source": [
    "D8.3 Check if any flags are present in the name"
   ]
  },
  {
   "cell_type": "code",
   "execution_count": null,
   "metadata": {
    "scrolled": false
   },
   "outputs": [],
   "source": [
    "###\n",
    "\n",
    "# Check if flag is present in any name\n",
    "flag_df = pd.DataFrame([row for index, row in emoji_users.iterrows()\n",
    "                  for key in row['emoji_in_name_text'].split(',') if 'flag:' in key])\n",
    "\n",
    "flag_df[['name', 'username', 'emoji_in_name_text','num_followers']]\n",
    "\n",
    "###"
   ]
  },
  {
   "cell_type": "markdown",
   "metadata": {},
   "source": [
    "D8.4 Check for specific skin tone emojis"
   ]
  },
  {
   "cell_type": "code",
   "execution_count": null,
   "metadata": {},
   "outputs": [],
   "source": [
    "###\n",
    "\n",
    "#check for skin tone emojis\n",
    "skin_tone_df = pd.DataFrame([row for index, row in emoji_users.iterrows()\n",
    "                  for key in row['emoji_in_name_text'].split(',') if 'skin' in key])\n",
    "\n",
    "skin_tone_df[['name', 'username', 'emoji_in_name_text','num_followers']]\n",
    "\n",
    "###"
   ]
  },
  {
   "cell_type": "markdown",
   "metadata": {},
   "source": [
    "D8.5 Check for Rocket emoji in names"
   ]
  },
  {
   "cell_type": "code",
   "execution_count": null,
   "metadata": {},
   "outputs": [],
   "source": [
    "###\n",
    "\n",
    "# Rocket emoji\n",
    "rocket_df = pd.DataFrame([row for index, row in emoji_users.iterrows()\n",
    "                  for key in row['emoji_in_name_text'].split(',') if 'rocket' in key])\n",
    "\n",
    "rocket_df[['name', 'username', 'num_followers', 'num_following']]\n",
    "\n",
    "###"
   ]
  },
  {
   "cell_type": "markdown",
   "metadata": {},
   "source": [
    "D8.6 Check for writing emoji in name"
   ]
  },
  {
   "cell_type": "code",
   "execution_count": null,
   "metadata": {},
   "outputs": [],
   "source": [
    "###\n",
    "\n",
    "# writing emoji\n",
    "write_df = pd.DataFrame([row for index, row in emoji_users.iterrows()\n",
    "                  for key in row['emoji_in_name_text'].split(',') if 'writ' in key])\n",
    "\n",
    "write_df[['name', 'username', 'num_followers', 'num_following', 'emoji_in_name_text']]\n",
    "\n",
    "###"
   ]
  },
  {
   "cell_type": "markdown",
   "metadata": {},
   "source": [
    "D8.9 Check for camera emoji in name"
   ]
  },
  {
   "cell_type": "code",
   "execution_count": null,
   "metadata": {},
   "outputs": [],
   "source": [
    "###\n",
    "\n",
    "# camera emoji\n",
    "camera_df = pd.DataFrame([row for index, row in emoji_users.iterrows()\n",
    "                  for key in row['emoji_in_name_text'].split(',') if 'camera' in key])\n",
    "\n",
    "camera_df[['name', 'username', 'num_followers', 'num_following']]\n",
    "\n",
    "###"
   ]
  },
  {
   "cell_type": "markdown",
   "metadata": {},
   "source": [
    "D8.9 Check for tech emoji in name"
   ]
  },
  {
   "cell_type": "code",
   "execution_count": null,
   "metadata": {},
   "outputs": [],
   "source": [
    "###\n",
    "\n",
    "# Tech emoji\n",
    "tech_df = pd.DataFrame([row for index, row in emoji_users.iterrows()\n",
    "                  for key in row['emoji_in_name_text'].split(',') if 'tech' in key])\n",
    "tech_df[['name', 'username','emoji_in_name_text', 'num_followers', 'num_following']]\n",
    "\n",
    "###"
   ]
  },
  {
   "cell_type": "markdown",
   "metadata": {},
   "source": [
    "D8.10 Check for gender based emojis in name"
   ]
  },
  {
   "cell_type": "code",
   "execution_count": null,
   "metadata": {},
   "outputs": [],
   "source": [
    "###\n",
    "\n",
    "# Gender based on emoji description\n",
    "gender_df = pd.DataFrame([row for index, row in emoji_users.iterrows()\n",
    "                  for key in row['emoji_in_name_text'].split(',') if 'man' in key])\n",
    "gender_df[['name', 'username','emoji_in_name_text', 'num_followers', 'num_following']]\n",
    "\n",
    "###"
   ]
  },
  {
   "cell_type": "code",
   "execution_count": null,
   "metadata": {},
   "outputs": [],
   "source": [
    "#--------------------------------------------------------------------------------------------------------------#"
   ]
  }
 ],
 "metadata": {
  "kernelspec": {
   "display_name": "Python 3",
   "language": "python",
   "name": "python3"
  },
  "language_info": {
   "codemirror_mode": {
    "name": "ipython",
    "version": 3
   },
   "file_extension": ".py",
   "mimetype": "text/x-python",
   "name": "python",
   "nbconvert_exporter": "python",
   "pygments_lexer": "ipython3",
   "version": "3.7.4"
  }
 },
 "nbformat": 4,
 "nbformat_minor": 2
}
